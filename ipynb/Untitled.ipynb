{
 "cells": [
  {
   "cell_type": "markdown",
   "id": "e27b7b0e",
   "metadata": {},
   "source": [
    "# Exploring Films to Elevate Creative Excellence in our New Movies\n"
   ]
  },
  {
   "cell_type": "markdown",
   "id": "010cb51a",
   "metadata": {},
   "source": [
    "### Overview"
   ]
  },
  {
   "cell_type": "markdown",
   "id": "04d5669d",
   "metadata": {},
   "source": [
    "In this project, we will embark on a journey that encompasses data analysis, market research, and collaboration with industry professionals. By leveraging this knowledge, we can develop a data-driven approach that enhances our ability to craft films that resonate with audiences and achieve significant box office success"
   ]
  },
  {
   "cell_type": "markdown",
   "id": "68f68fd5",
   "metadata": {},
   "source": [
    "## Business Understanding \n"
   ]
  },
  {
   "cell_type": "markdown",
   "id": "b60667c5",
   "metadata": {},
   "source": [
    "### Introduction"
   ]
  },
  {
   "cell_type": "markdown",
   "id": "b8d9df0a",
   "metadata": {},
   "source": [
    "In the dynamic and competitive landscape of the film industry, achieving box office success is not just a matter of creative brilliance but also a strategic business endeavor. As our movie studio aims to create films that not only captivate audiences but also generate substantial profits, it is essential to gain a comprehensive understanding of the factors that contribute to box office hits.\n",
    "In an era driven by data, a data-driven approach plays a vital role in our project. By analyzing box office data, market research reports, and audience metrics, we can identify patterns, trends, and untapped market opportunities. This empirical approach guides our decision-making, reducing risks and increasing our potential for profitability.\n",
    "\n",
    "Ultimately, the insights and strategies derived from this project will enable our movie studio to position itself strategically within the industry, effectively competing for audience attention and box office success. By combining creative excellence with a deep understanding of the business aspects of the film industry, we aim to create a sustainable and thriving film production enterprise.\n",
    "This project endeavors to explore the business dynamics behind successful films, delving into market insights and consumer preferences to guide our decision-making process. By analyzing box office performance, studying market trends, and identifying successful studios and filmmakers, we can gain invaluable knowledge that enables us to produce films with a higher probability of financial success.\n"
   ]
  },
  {
   "cell_type": "markdown",
   "id": "eb6c98d5",
   "metadata": {},
   "source": [
    "### Problem Statement"
   ]
  },
  {
   "cell_type": "markdown",
   "id": "a1450c62",
   "metadata": {},
   "source": [
    "Leveraging Market Insights to Drive Profitability:  We can effectively utilize market research and consumer insights to make informed decisions and improve the financial performance of our film productions. And also  identify untapped market opportunities and tailor our films to meet the demands of specific target audiences.\n",
    "\n",
    "Establishing Collaborations for Industry Success: How can we build strategic partnerships and collaborations with industry professionals, including producers, distributors, and market analysts, to enhance our understanding of market dynamics and increase the chances of box office success? How can these collaborations contribute to more effective marketing and distribution strategies?\n",
    "\n",
    "\n",
    "\n",
    "\n",
    "Integrating Creativity with Data-Driven Approaches: How can we strike a balance between creative excellence and data-driven decision-making? How can we leverage data analysis tools and techniques to inform creative choices and improve the chances of producing films that resonate with audiences while also achieving financial success?\n"
   ]
  },
  {
   "cell_type": "markdown",
   "id": "2d4542a6",
   "metadata": {},
   "source": [
    "### Main Objective in Business Understanding"
   ]
  },
  {
   "cell_type": "markdown",
   "id": "fc19d88d",
   "metadata": {},
   "source": [
    "Understand Market Demand: This is to gain a deep understanding of market demand and evolving audience preferences. This entails conducting market research, analyzing audience demographics, trends, and preferences, and staying updated with industry developments. By understanding the market demand, your objective is to identify gaps, emerging genres, and untapped market opportunities. This knowledge will help align your film productions with audience interests, enhance marketability, and increase the likelihood of achieving box office success.\n",
    "This objective provide a framework for the project and can be further refined and tailored to suit the specific goals and resources of the movie studio.\n"
   ]
  },
  {
   "cell_type": "markdown",
   "id": "d8c54c3b",
   "metadata": {},
   "source": [
    "###  Specific Objective "
   ]
  },
  {
   "cell_type": "markdown",
   "id": "c8855655",
   "metadata": {},
   "source": [
    "> 1. Develop a Data-Driven Greenlighting Process"
   ]
  },
  {
   "cell_type": "markdown",
   "id": "6eeacb01",
   "metadata": {},
   "source": [
    "This is to develop a data-driven greenlighting process for evaluating and selecting film projects. This involves creating a systematic approach that integrates market data, financial analysis, and creative elements to assess the potential success and profitability of film concepts. The objective is to establish criteria and metrics for decision-making, such as return on investment projections, market demand analysis, and risk assessment, to guide the selection and prioritization of film projects within your movie studio."
   ]
  },
  {
   "cell_type": "markdown",
   "id": "894c8c17",
   "metadata": {},
   "source": [
    ">2. Analyze Successful Box Office Hits: "
   ]
  },
  {
   "cell_type": "markdown",
   "id": "d8aa89b7",
   "metadata": {},
   "source": [
    "This objective is to analyze a sample of successful box office hits within a specific time frame (e.g., past five years) to identify common patterns and characteristics. This includes examining factors such as genre, budget range, release timing, marketing strategies, critical reception, and audience demographics. The objective is to extract actionable insights from this analysis that can guide decision-making in the development and production of future films."
   ]
  },
  {
   "cell_type": "markdown",
   "id": "49de47c6",
   "metadata": {},
   "source": [
    "<b>In conclusion</b>, this project's insights offer valuable guidance to our movie studio in navigating the current film landscape. By aligning our creative endeavors with audience preferences and staying attuned to market trends, we can increase the likelihood of creating films that resonate with viewers and achieve commercial success."
   ]
  },
  {
   "cell_type": "markdown",
   "id": "790259fa",
   "metadata": {},
   "source": [
    "## Data Understanding"
   ]
  },
  {
   "cell_type": "markdown",
   "id": "12bdc157",
   "metadata": {},
   "source": [
    "The Data used in this Project was provided to us:\n",
    "\n",
    "•\t[Box Office Mojo](https://www.boxofficemojo.com/) to an external site.\n",
    "\n",
    "•\t[IMDB](https://www.imdb.com/) to an external site.\n",
    "\n",
    "•\t[Rotten Tomatoes](https://www.rottentomatoes.com/) to an external site.\n",
    "\n",
    "•\t[TheMovieDB](https://www.themoviedb.org/) to an external site.\n",
    "\n",
    "•\t[The Numbers](https://www.the-numbers.com/) to an external site.\n"
   ]
  },
  {
   "cell_type": "markdown",
   "id": "128a5d7b",
   "metadata": {},
   "source": [
    "This dataset contains information about a selection of movies, including their title, release year, genre, IMDb rating, and worldwide gross income."
   ]
  },
  {
   "cell_type": "markdown",
   "id": "f9155ca9",
   "metadata": {},
   "source": [
    "Below Is a dataset of Movie ratings we shall go through"
   ]
  },
  {
   "cell_type": "markdown",
   "id": "cac5566a",
   "metadata": {},
   "source": [
    "|No.\t|average rating|Num of Votes|\n",
    "|-------|--------------|------------|\n",
    "|1\t    |8.3\t        |      31|\n",
    "|2                  |8.9|\t559|\n",
    "|3          |6.4\t|20|\n",
    "|4        |4.2    |    \t50352\n",
    "|5   |6.5\t|21|\n",
    "|6   |6.2\t| 326|\n",
    "|7   |7\t|1613\n",
    "\n",
    "\n"
   ]
  },
  {
   "cell_type": "markdown",
   "id": "b851e875",
   "metadata": {},
   "source": [
    " Experimental Design\n",
    " \n",
    "1,\tRead and check the data\n",
    "\n",
    "2,\tCleaning the data\n",
    "\n",
    "3,\tExploratory Data Analysis\n",
    "\n",
    "4,\tConclusions and Recommendations\n"
   ]
  },
  {
   "cell_type": "markdown",
   "id": "702a7758",
   "metadata": {},
   "source": [
    "The dataset sourced from IMDb offers valuable insights into the world of movies. It provides essential information such as movie titles, release years, genres, IMDb ratings, and worldwide gross income. This dataset is highly useful as it allows for identification, referencing, and temporal analysis through movie titles and release years. Additionally, the inclusion of genre information enables genre-specific analysis, while IMDb ratings offer a measure of popularity and audience reception."
   ]
  },
  {
   "cell_type": "markdown",
   "id": "d82af850",
   "metadata": {},
   "source": [
    "<b>Feature based properties that were used for justification of this project were</b>\n",
    "\n",
    "Title: The inclusion of the movie title is essential as it serves as a unique identifier for each film in the dataset\n",
    "\n",
    "Release Year: The release year provides temporal information, allowing for the analysis of trends and patterns over time\n",
    "\n",
    "Genre: Genre information is highly relevant as it allows for the categorization and grouping of movies based on their thematic elements and styles.\n",
    "\n",
    "IMDb Rating: IMDb ratings offer a quantifiable measure of audience reception and popularity\n",
    "\n",
    "Gross Income: The inclusion of gross income is vital as it provides a quantitative measure of a film's financial success.\n"
   ]
  },
  {
   "cell_type": "markdown",
   "id": "af1c0175",
   "metadata": {},
   "source": [
    "Including these features in the dataset, the project can leverage their properties and relevance to gain insights into the performance, popularity, and financial success of movies. These insights can then inform decision-making processes related to film production, genre selection, target audience identification, and marketing strategies, ultimately increasing the chances of creating commercially successful films."
   ]
  },
  {
   "cell_type": "markdown",
   "id": "a7a18c96",
   "metadata": {},
   "source": [
    "<b>Limitations </b>\n",
    "\n",
    "While the dataset provides valuable information for the project, it's important to be aware of its limitations, as they can have implications for the analysis and decision-making process. Here are some potential limitations to consider:\n",
    "\n",
    "Data Completeness: The dataset might have missing or incomplete data points.\n",
    "\n",
    "Data Reliability: The reliability of the dataset depends on the source from which it was obtained\n",
    "\n",
    "Selection Bias: The dataset might suffer from selection bias, meaning it may not represent the entire population of movies accurately\n"
   ]
  },
  {
   "cell_type": "markdown",
   "id": "c2db4b8b",
   "metadata": {},
   "source": [
    "The dataset may not account for external factors that can influence a film's performance, such as competition, marketing campaigns, or economic conditions.\n",
    "It's crucial to acknowledge these limitations and consider their potential impact on the project's findings and conclusions.\n",
    "\n"
   ]
  },
  {
   "cell_type": "markdown",
   "id": "8dfd6618",
   "metadata": {},
   "source": [
    "## Data Preparation "
   ]
  },
  {
   "cell_type": "markdown",
   "id": "39ea7357",
   "metadata": {},
   "source": [
    "This  involves transforming, cleaning, and organizing raw data to ensure its quality, consistency, and suitability for analysis. The process typically includes several key steps:\n",
    "\n"
   ]
  },
  {
   "cell_type": "markdown",
   "id": "d44648c9",
   "metadata": {},
   "source": [
    "Instructions were set that outline the steps to obtain and prepare raw data for analysis using Python and pandas, a popular data manipulation library"
   ]
  },
  {
   "cell_type": "markdown",
   "id": "2e3d3090",
   "metadata": {},
   "source": [
    "### Importing Relevant Libraries"
   ]
  },
  {
   "cell_type": "code",
   "execution_count": 1,
   "id": "1b852b23",
   "metadata": {},
   "outputs": [],
   "source": [
    "import pandas as pd\n",
    "import numpy as np"
   ]
  },
  {
   "cell_type": "markdown",
   "id": "3bc3027e",
   "metadata": {},
   "source": [
    "### Reading The Data"
   ]
  },
  {
   "cell_type": "code",
   "execution_count": 2,
   "id": "acab27de",
   "metadata": {},
   "outputs": [
    {
     "ename": "FileNotFoundError",
     "evalue": "[Errno 2] No such file or directory: 'Datasets/bom.movie_gross.csv'",
     "output_type": "error",
     "traceback": [
      "\u001b[1;31m---------------------------------------------------------------------------\u001b[0m",
      "\u001b[1;31mFileNotFoundError\u001b[0m                         Traceback (most recent call last)",
      "Cell \u001b[1;32mIn[2], line 1\u001b[0m\n\u001b[1;32m----> 1\u001b[0m df\u001b[38;5;241m=\u001b[39m \u001b[43mpd\u001b[49m\u001b[38;5;241;43m.\u001b[39;49m\u001b[43mread_csv\u001b[49m\u001b[43m(\u001b[49m\u001b[38;5;124;43m\"\u001b[39;49m\u001b[38;5;124;43mDatasets/bom.movie_gross.csv\u001b[39;49m\u001b[38;5;124;43m\"\u001b[39;49m\u001b[43m)\u001b[49m\n",
      "File \u001b[1;32m~\\anaconda3\\envs\\learn-env\\lib\\site-packages\\pandas\\io\\parsers\\readers.py:912\u001b[0m, in \u001b[0;36mread_csv\u001b[1;34m(filepath_or_buffer, sep, delimiter, header, names, index_col, usecols, dtype, engine, converters, true_values, false_values, skipinitialspace, skiprows, skipfooter, nrows, na_values, keep_default_na, na_filter, verbose, skip_blank_lines, parse_dates, infer_datetime_format, keep_date_col, date_parser, date_format, dayfirst, cache_dates, iterator, chunksize, compression, thousands, decimal, lineterminator, quotechar, quoting, doublequote, escapechar, comment, encoding, encoding_errors, dialect, on_bad_lines, delim_whitespace, low_memory, memory_map, float_precision, storage_options, dtype_backend)\u001b[0m\n\u001b[0;32m    899\u001b[0m kwds_defaults \u001b[38;5;241m=\u001b[39m _refine_defaults_read(\n\u001b[0;32m    900\u001b[0m     dialect,\n\u001b[0;32m    901\u001b[0m     delimiter,\n\u001b[1;32m   (...)\u001b[0m\n\u001b[0;32m    908\u001b[0m     dtype_backend\u001b[38;5;241m=\u001b[39mdtype_backend,\n\u001b[0;32m    909\u001b[0m )\n\u001b[0;32m    910\u001b[0m kwds\u001b[38;5;241m.\u001b[39mupdate(kwds_defaults)\n\u001b[1;32m--> 912\u001b[0m \u001b[38;5;28;01mreturn\u001b[39;00m \u001b[43m_read\u001b[49m\u001b[43m(\u001b[49m\u001b[43mfilepath_or_buffer\u001b[49m\u001b[43m,\u001b[49m\u001b[43m \u001b[49m\u001b[43mkwds\u001b[49m\u001b[43m)\u001b[49m\n",
      "File \u001b[1;32m~\\anaconda3\\envs\\learn-env\\lib\\site-packages\\pandas\\io\\parsers\\readers.py:577\u001b[0m, in \u001b[0;36m_read\u001b[1;34m(filepath_or_buffer, kwds)\u001b[0m\n\u001b[0;32m    574\u001b[0m _validate_names(kwds\u001b[38;5;241m.\u001b[39mget(\u001b[38;5;124m\"\u001b[39m\u001b[38;5;124mnames\u001b[39m\u001b[38;5;124m\"\u001b[39m, \u001b[38;5;28;01mNone\u001b[39;00m))\n\u001b[0;32m    576\u001b[0m \u001b[38;5;66;03m# Create the parser.\u001b[39;00m\n\u001b[1;32m--> 577\u001b[0m parser \u001b[38;5;241m=\u001b[39m TextFileReader(filepath_or_buffer, \u001b[38;5;241m*\u001b[39m\u001b[38;5;241m*\u001b[39mkwds)\n\u001b[0;32m    579\u001b[0m \u001b[38;5;28;01mif\u001b[39;00m chunksize \u001b[38;5;129;01mor\u001b[39;00m iterator:\n\u001b[0;32m    580\u001b[0m     \u001b[38;5;28;01mreturn\u001b[39;00m parser\n",
      "File \u001b[1;32m~\\anaconda3\\envs\\learn-env\\lib\\site-packages\\pandas\\io\\parsers\\readers.py:1407\u001b[0m, in \u001b[0;36mTextFileReader.__init__\u001b[1;34m(self, f, engine, **kwds)\u001b[0m\n\u001b[0;32m   1404\u001b[0m     \u001b[38;5;28mself\u001b[39m\u001b[38;5;241m.\u001b[39moptions[\u001b[38;5;124m\"\u001b[39m\u001b[38;5;124mhas_index_names\u001b[39m\u001b[38;5;124m\"\u001b[39m] \u001b[38;5;241m=\u001b[39m kwds[\u001b[38;5;124m\"\u001b[39m\u001b[38;5;124mhas_index_names\u001b[39m\u001b[38;5;124m\"\u001b[39m]\n\u001b[0;32m   1406\u001b[0m \u001b[38;5;28mself\u001b[39m\u001b[38;5;241m.\u001b[39mhandles: IOHandles \u001b[38;5;241m|\u001b[39m \u001b[38;5;28;01mNone\u001b[39;00m \u001b[38;5;241m=\u001b[39m \u001b[38;5;28;01mNone\u001b[39;00m\n\u001b[1;32m-> 1407\u001b[0m \u001b[38;5;28mself\u001b[39m\u001b[38;5;241m.\u001b[39m_engine \u001b[38;5;241m=\u001b[39m \u001b[38;5;28;43mself\u001b[39;49m\u001b[38;5;241;43m.\u001b[39;49m\u001b[43m_make_engine\u001b[49m\u001b[43m(\u001b[49m\u001b[43mf\u001b[49m\u001b[43m,\u001b[49m\u001b[43m \u001b[49m\u001b[38;5;28;43mself\u001b[39;49m\u001b[38;5;241;43m.\u001b[39;49m\u001b[43mengine\u001b[49m\u001b[43m)\u001b[49m\n",
      "File \u001b[1;32m~\\anaconda3\\envs\\learn-env\\lib\\site-packages\\pandas\\io\\parsers\\readers.py:1661\u001b[0m, in \u001b[0;36mTextFileReader._make_engine\u001b[1;34m(self, f, engine)\u001b[0m\n\u001b[0;32m   1659\u001b[0m     \u001b[38;5;28;01mif\u001b[39;00m \u001b[38;5;124m\"\u001b[39m\u001b[38;5;124mb\u001b[39m\u001b[38;5;124m\"\u001b[39m \u001b[38;5;129;01mnot\u001b[39;00m \u001b[38;5;129;01min\u001b[39;00m mode:\n\u001b[0;32m   1660\u001b[0m         mode \u001b[38;5;241m+\u001b[39m\u001b[38;5;241m=\u001b[39m \u001b[38;5;124m\"\u001b[39m\u001b[38;5;124mb\u001b[39m\u001b[38;5;124m\"\u001b[39m\n\u001b[1;32m-> 1661\u001b[0m \u001b[38;5;28mself\u001b[39m\u001b[38;5;241m.\u001b[39mhandles \u001b[38;5;241m=\u001b[39m \u001b[43mget_handle\u001b[49m\u001b[43m(\u001b[49m\n\u001b[0;32m   1662\u001b[0m \u001b[43m    \u001b[49m\u001b[43mf\u001b[49m\u001b[43m,\u001b[49m\n\u001b[0;32m   1663\u001b[0m \u001b[43m    \u001b[49m\u001b[43mmode\u001b[49m\u001b[43m,\u001b[49m\n\u001b[0;32m   1664\u001b[0m \u001b[43m    \u001b[49m\u001b[43mencoding\u001b[49m\u001b[38;5;241;43m=\u001b[39;49m\u001b[38;5;28;43mself\u001b[39;49m\u001b[38;5;241;43m.\u001b[39;49m\u001b[43moptions\u001b[49m\u001b[38;5;241;43m.\u001b[39;49m\u001b[43mget\u001b[49m\u001b[43m(\u001b[49m\u001b[38;5;124;43m\"\u001b[39;49m\u001b[38;5;124;43mencoding\u001b[39;49m\u001b[38;5;124;43m\"\u001b[39;49m\u001b[43m,\u001b[49m\u001b[43m \u001b[49m\u001b[38;5;28;43;01mNone\u001b[39;49;00m\u001b[43m)\u001b[49m\u001b[43m,\u001b[49m\n\u001b[0;32m   1665\u001b[0m \u001b[43m    \u001b[49m\u001b[43mcompression\u001b[49m\u001b[38;5;241;43m=\u001b[39;49m\u001b[38;5;28;43mself\u001b[39;49m\u001b[38;5;241;43m.\u001b[39;49m\u001b[43moptions\u001b[49m\u001b[38;5;241;43m.\u001b[39;49m\u001b[43mget\u001b[49m\u001b[43m(\u001b[49m\u001b[38;5;124;43m\"\u001b[39;49m\u001b[38;5;124;43mcompression\u001b[39;49m\u001b[38;5;124;43m\"\u001b[39;49m\u001b[43m,\u001b[49m\u001b[43m \u001b[49m\u001b[38;5;28;43;01mNone\u001b[39;49;00m\u001b[43m)\u001b[49m\u001b[43m,\u001b[49m\n\u001b[0;32m   1666\u001b[0m \u001b[43m    \u001b[49m\u001b[43mmemory_map\u001b[49m\u001b[38;5;241;43m=\u001b[39;49m\u001b[38;5;28;43mself\u001b[39;49m\u001b[38;5;241;43m.\u001b[39;49m\u001b[43moptions\u001b[49m\u001b[38;5;241;43m.\u001b[39;49m\u001b[43mget\u001b[49m\u001b[43m(\u001b[49m\u001b[38;5;124;43m\"\u001b[39;49m\u001b[38;5;124;43mmemory_map\u001b[39;49m\u001b[38;5;124;43m\"\u001b[39;49m\u001b[43m,\u001b[49m\u001b[43m \u001b[49m\u001b[38;5;28;43;01mFalse\u001b[39;49;00m\u001b[43m)\u001b[49m\u001b[43m,\u001b[49m\n\u001b[0;32m   1667\u001b[0m \u001b[43m    \u001b[49m\u001b[43mis_text\u001b[49m\u001b[38;5;241;43m=\u001b[39;49m\u001b[43mis_text\u001b[49m\u001b[43m,\u001b[49m\n\u001b[0;32m   1668\u001b[0m \u001b[43m    \u001b[49m\u001b[43merrors\u001b[49m\u001b[38;5;241;43m=\u001b[39;49m\u001b[38;5;28;43mself\u001b[39;49m\u001b[38;5;241;43m.\u001b[39;49m\u001b[43moptions\u001b[49m\u001b[38;5;241;43m.\u001b[39;49m\u001b[43mget\u001b[49m\u001b[43m(\u001b[49m\u001b[38;5;124;43m\"\u001b[39;49m\u001b[38;5;124;43mencoding_errors\u001b[39;49m\u001b[38;5;124;43m\"\u001b[39;49m\u001b[43m,\u001b[49m\u001b[43m \u001b[49m\u001b[38;5;124;43m\"\u001b[39;49m\u001b[38;5;124;43mstrict\u001b[39;49m\u001b[38;5;124;43m\"\u001b[39;49m\u001b[43m)\u001b[49m\u001b[43m,\u001b[49m\n\u001b[0;32m   1669\u001b[0m \u001b[43m    \u001b[49m\u001b[43mstorage_options\u001b[49m\u001b[38;5;241;43m=\u001b[39;49m\u001b[38;5;28;43mself\u001b[39;49m\u001b[38;5;241;43m.\u001b[39;49m\u001b[43moptions\u001b[49m\u001b[38;5;241;43m.\u001b[39;49m\u001b[43mget\u001b[49m\u001b[43m(\u001b[49m\u001b[38;5;124;43m\"\u001b[39;49m\u001b[38;5;124;43mstorage_options\u001b[39;49m\u001b[38;5;124;43m\"\u001b[39;49m\u001b[43m,\u001b[49m\u001b[43m \u001b[49m\u001b[38;5;28;43;01mNone\u001b[39;49;00m\u001b[43m)\u001b[49m\u001b[43m,\u001b[49m\n\u001b[0;32m   1670\u001b[0m \u001b[43m\u001b[49m\u001b[43m)\u001b[49m\n\u001b[0;32m   1671\u001b[0m \u001b[38;5;28;01massert\u001b[39;00m \u001b[38;5;28mself\u001b[39m\u001b[38;5;241m.\u001b[39mhandles \u001b[38;5;129;01mis\u001b[39;00m \u001b[38;5;129;01mnot\u001b[39;00m \u001b[38;5;28;01mNone\u001b[39;00m\n\u001b[0;32m   1672\u001b[0m f \u001b[38;5;241m=\u001b[39m \u001b[38;5;28mself\u001b[39m\u001b[38;5;241m.\u001b[39mhandles\u001b[38;5;241m.\u001b[39mhandle\n",
      "File \u001b[1;32m~\\anaconda3\\envs\\learn-env\\lib\\site-packages\\pandas\\io\\common.py:859\u001b[0m, in \u001b[0;36mget_handle\u001b[1;34m(path_or_buf, mode, encoding, compression, memory_map, is_text, errors, storage_options)\u001b[0m\n\u001b[0;32m    854\u001b[0m \u001b[38;5;28;01melif\u001b[39;00m \u001b[38;5;28misinstance\u001b[39m(handle, \u001b[38;5;28mstr\u001b[39m):\n\u001b[0;32m    855\u001b[0m     \u001b[38;5;66;03m# Check whether the filename is to be opened in binary mode.\u001b[39;00m\n\u001b[0;32m    856\u001b[0m     \u001b[38;5;66;03m# Binary mode does not support 'encoding' and 'newline'.\u001b[39;00m\n\u001b[0;32m    857\u001b[0m     \u001b[38;5;28;01mif\u001b[39;00m ioargs\u001b[38;5;241m.\u001b[39mencoding \u001b[38;5;129;01mand\u001b[39;00m \u001b[38;5;124m\"\u001b[39m\u001b[38;5;124mb\u001b[39m\u001b[38;5;124m\"\u001b[39m \u001b[38;5;129;01mnot\u001b[39;00m \u001b[38;5;129;01min\u001b[39;00m ioargs\u001b[38;5;241m.\u001b[39mmode:\n\u001b[0;32m    858\u001b[0m         \u001b[38;5;66;03m# Encoding\u001b[39;00m\n\u001b[1;32m--> 859\u001b[0m         handle \u001b[38;5;241m=\u001b[39m \u001b[38;5;28;43mopen\u001b[39;49m\u001b[43m(\u001b[49m\n\u001b[0;32m    860\u001b[0m \u001b[43m            \u001b[49m\u001b[43mhandle\u001b[49m\u001b[43m,\u001b[49m\n\u001b[0;32m    861\u001b[0m \u001b[43m            \u001b[49m\u001b[43mioargs\u001b[49m\u001b[38;5;241;43m.\u001b[39;49m\u001b[43mmode\u001b[49m\u001b[43m,\u001b[49m\n\u001b[0;32m    862\u001b[0m \u001b[43m            \u001b[49m\u001b[43mencoding\u001b[49m\u001b[38;5;241;43m=\u001b[39;49m\u001b[43mioargs\u001b[49m\u001b[38;5;241;43m.\u001b[39;49m\u001b[43mencoding\u001b[49m\u001b[43m,\u001b[49m\n\u001b[0;32m    863\u001b[0m \u001b[43m            \u001b[49m\u001b[43merrors\u001b[49m\u001b[38;5;241;43m=\u001b[39;49m\u001b[43merrors\u001b[49m\u001b[43m,\u001b[49m\n\u001b[0;32m    864\u001b[0m \u001b[43m            \u001b[49m\u001b[43mnewline\u001b[49m\u001b[38;5;241;43m=\u001b[39;49m\u001b[38;5;124;43m\"\u001b[39;49m\u001b[38;5;124;43m\"\u001b[39;49m\u001b[43m,\u001b[49m\n\u001b[0;32m    865\u001b[0m \u001b[43m        \u001b[49m\u001b[43m)\u001b[49m\n\u001b[0;32m    866\u001b[0m     \u001b[38;5;28;01melse\u001b[39;00m:\n\u001b[0;32m    867\u001b[0m         \u001b[38;5;66;03m# Binary mode\u001b[39;00m\n\u001b[0;32m    868\u001b[0m         handle \u001b[38;5;241m=\u001b[39m \u001b[38;5;28mopen\u001b[39m(handle, ioargs\u001b[38;5;241m.\u001b[39mmode)\n",
      "\u001b[1;31mFileNotFoundError\u001b[0m: [Errno 2] No such file or directory: 'Datasets/bom.movie_gross.csv'"
     ]
    }
   ],
   "source": [
    "df= pd.read_csv(\"Datasets/bom.movie_gross.csv\")"
   ]
  },
  {
   "cell_type": "code",
   "execution_count": null,
   "id": "3f7420b6",
   "metadata": {},
   "outputs": [],
   "source": []
  }
 ],
 "metadata": {
  "kernelspec": {
   "display_name": "Python (learn-env)",
   "language": "python",
   "name": "learn-env"
  },
  "language_info": {
   "codemirror_mode": {
    "name": "ipython",
    "version": 3
   },
   "file_extension": ".py",
   "mimetype": "text/x-python",
   "name": "python",
   "nbconvert_exporter": "python",
   "pygments_lexer": "ipython3",
   "version": "3.10.11"
  }
 },
 "nbformat": 4,
 "nbformat_minor": 5
}
